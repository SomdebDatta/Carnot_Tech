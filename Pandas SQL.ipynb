{
 "cells": [
  {
   "cell_type": "code",
   "execution_count": 1,
   "id": "c27746dc-d962-4d37-94f6-76117d2cbfff",
   "metadata": {},
   "outputs": [],
   "source": [
    "import pandas as pd"
   ]
  },
  {
   "cell_type": "code",
   "execution_count": 2,
   "id": "7cf092e0-6458-49d3-85be-cf88ddb9252a",
   "metadata": {},
   "outputs": [],
   "source": [
    "raw_data = pd.read_csv(\"C:/Users/Z004CRTK/Carnot_Tech/config/Raw Data - Backend Developer. (1).csv\")"
   ]
  },
  {
   "cell_type": "code",
   "execution_count": 3,
   "id": "26a00d20-089b-4d92-a704-06398716185f",
   "metadata": {},
   "outputs": [
    {
     "data": {
      "text/html": [
       "<div>\n",
       "<style scoped>\n",
       "    .dataframe tbody tr th:only-of-type {\n",
       "        vertical-align: middle;\n",
       "    }\n",
       "\n",
       "    .dataframe tbody tr th {\n",
       "        vertical-align: top;\n",
       "    }\n",
       "\n",
       "    .dataframe thead th {\n",
       "        text-align: right;\n",
       "    }\n",
       "</style>\n",
       "<table border=\"1\" class=\"dataframe\">\n",
       "  <thead>\n",
       "    <tr style=\"text-align: right;\">\n",
       "      <th></th>\n",
       "      <th>device_fk_id</th>\n",
       "      <th>latitude</th>\n",
       "      <th>longitude</th>\n",
       "      <th>time_stamp</th>\n",
       "      <th>sts</th>\n",
       "      <th>speed</th>\n",
       "    </tr>\n",
       "  </thead>\n",
       "  <tbody>\n",
       "    <tr>\n",
       "      <th>0</th>\n",
       "      <td>25029</td>\n",
       "      <td>27.877958</td>\n",
       "      <td>76.060959</td>\n",
       "      <td>2021-10-23T14:08:02Z</td>\n",
       "      <td>2021-10-23T14:08:08.5984Z</td>\n",
       "      <td>0</td>\n",
       "    </tr>\n",
       "    <tr>\n",
       "      <th>1</th>\n",
       "      <td>25029</td>\n",
       "      <td>27.877958</td>\n",
       "      <td>76.060959</td>\n",
       "      <td>2021-10-23T14:08:06Z</td>\n",
       "      <td>2021-10-23T14:08:08.595096Z</td>\n",
       "      <td>0</td>\n",
       "    </tr>\n",
       "    <tr>\n",
       "      <th>2</th>\n",
       "      <td>25029</td>\n",
       "      <td>27.877958</td>\n",
       "      <td>76.060959</td>\n",
       "      <td>2021-10-23T14:08:04Z</td>\n",
       "      <td>2021-10-23T14:08:08.595365Z</td>\n",
       "      <td>0</td>\n",
       "    </tr>\n",
       "    <tr>\n",
       "      <th>3</th>\n",
       "      <td>25029</td>\n",
       "      <td>27.877958</td>\n",
       "      <td>76.060959</td>\n",
       "      <td>2021-10-23T14:08:00Z</td>\n",
       "      <td>2021-10-23T14:08:02.640873Z</td>\n",
       "      <td>0</td>\n",
       "    </tr>\n",
       "    <tr>\n",
       "      <th>4</th>\n",
       "      <td>25029</td>\n",
       "      <td>27.877958</td>\n",
       "      <td>76.060959</td>\n",
       "      <td>2021-10-23T14:07:56Z</td>\n",
       "      <td>2021-10-23T14:08:02.640311Z</td>\n",
       "      <td>0</td>\n",
       "    </tr>\n",
       "  </tbody>\n",
       "</table>\n",
       "</div>"
      ],
      "text/plain": [
       "   device_fk_id   latitude  longitude            time_stamp  \\\n",
       "0         25029  27.877958  76.060959  2021-10-23T14:08:02Z   \n",
       "1         25029  27.877958  76.060959  2021-10-23T14:08:06Z   \n",
       "2         25029  27.877958  76.060959  2021-10-23T14:08:04Z   \n",
       "3         25029  27.877958  76.060959  2021-10-23T14:08:00Z   \n",
       "4         25029  27.877958  76.060959  2021-10-23T14:07:56Z   \n",
       "\n",
       "                           sts  speed  \n",
       "0    2021-10-23T14:08:08.5984Z      0  \n",
       "1  2021-10-23T14:08:08.595096Z      0  \n",
       "2  2021-10-23T14:08:08.595365Z      0  \n",
       "3  2021-10-23T14:08:02.640873Z      0  \n",
       "4  2021-10-23T14:08:02.640311Z      0  "
      ]
     },
     "execution_count": 3,
     "metadata": {},
     "output_type": "execute_result"
    }
   ],
   "source": [
    "raw_data.head()"
   ]
  },
  {
   "cell_type": "code",
   "execution_count": 4,
   "id": "b94e1f41-94e7-4b9c-9701-0c74c31239e6",
   "metadata": {},
   "outputs": [
    {
     "name": "stdout",
     "output_type": "stream",
     "text": [
      "Latest time for 6888 is 2021-10-23T13:28:00Z\n",
      "Entire row:\n",
      "      index  device_fk_id   latitude  longitude            time_stamp  \\\n",
      "7180   8553          6888  19.735189  76.184525  2021-10-23T13:28:00Z   \n",
      "\n",
      "                              sts  speed  \n",
      "7180  2021-10-23T13:28:05.626486Z      0  \n",
      "Latest time for 20984 is 2021-10-23T14:29:32Z\n",
      "Entire row:\n",
      "       index  device_fk_id   latitude  longitude            time_stamp  \\\n",
      "10098   7589         20984  21.615061  78.436737  2021-10-23T14:29:32Z   \n",
      "\n",
      "                               sts  speed  \n",
      "10098  2021-10-23T14:29:36.526166Z      0  \n",
      "Latest time for 24809 is 2021-10-23T14:29:04Z\n",
      "Entire row:\n",
      "       index  device_fk_id   latitude  longitude            time_stamp  \\\n",
      "10093   2319         24809  18.990557   77.75898  2021-10-23T14:29:04Z   \n",
      "\n",
      "                               sts  speed  \n",
      "10093  2021-10-23T14:29:09.592351Z      0  \n",
      "Latest time for 25029 is 2021-10-23T14:25:25Z\n",
      "Entire row:\n",
      "       index  device_fk_id   latitude  longitude            time_stamp  \\\n",
      "10015    357         25029  27.877935  76.060959  2021-10-23T14:25:25Z   \n",
      "\n",
      "                               sts  speed  \n",
      "10015  2021-10-23T14:25:29.954599Z      0  \n"
     ]
    }
   ],
   "source": [
    "sorted_data = raw_data.sort_values(\"time_stamp\").reset_index()\n",
    "\n",
    "grouped_sorted_data = sorted_data.groupby(\"device_fk_id\")\n",
    "\n",
    "latest_df = pd.DataFrame()\n",
    "for entry in list(grouped_sorted_data):\n",
    "    latest_time = entry[1][\"time_stamp\"].max()\n",
    "    print(f\"Latest time for {entry[0]} is {latest_time}\")\n",
    "    latest_row = entry[1].tail(1)\n",
    "    print(f\"Entire row:\\n{latest_row}\")\n",
    "    latest_df = pd.concat([latest_df, latest_row], axis=0)\n",
    "    \n",
    "latest_values = latest_df.reset_index()"
   ]
  },
  {
   "cell_type": "code",
   "execution_count": 52,
   "id": "53f50e13-0a43-40a1-864a-69ffdd0706f7",
   "metadata": {},
   "outputs": [
    {
     "name": "stdout",
     "output_type": "stream",
     "text": [
      "   index  device_fk_id   latitude  longitude            time_stamp  \\\n",
      "0      2         24809  18.990557   77.75898  2021-10-23T14:29:04Z   \n",
      "\n",
      "                           sts  speed  \n",
      "0  2021-10-23T14:29:09.592351Z      0   <class 'pandas.core.frame.DataFrame'>\n",
      "{'device_fk_id': '24809', 'latitude': '18.99055672', 'longitude': '77.7589798', 'time_stamp': '2021-10-23T14:29:04Z', 'sts': '2021-10-23T14:29:09.592351Z', 'speed': '0'}\n"
     ]
    }
   ],
   "source": [
    "ip_device_fk_id = 24809\n",
    "\n",
    "valid_row = latest_values.loc[latest_values[\"device_fk_id\"] == ip_device_fk_id].drop(['level_0', 'index'], axis=1).reset_index()\n",
    "print(valid_row, type(valid_row))\n",
    "\n",
    "response = {\n",
    "        \"device_fk_id\": str(valid_row.device_fk_id[0]),\n",
    "        \"latitude\": str(valid_row.latitude[0]),\n",
    "        \"longitude\": str(valid_row.longitude[0]),\n",
    "        \"time_stamp\": str(valid_row.time_stamp[0]),\n",
    "        \"sts\": str(valid_row.sts[0]),\n",
    "        \"speed\": str(valid_row.speed[0]),\n",
    "    }\n",
    "\n",
    "print(response)"
   ]
  },
  {
   "cell_type": "code",
   "execution_count": 6,
   "id": "2f892085-541c-41c7-9ca7-005e8925380d",
   "metadata": {},
   "outputs": [
    {
     "data": {
      "text/plain": [
       "array([25029, 24809, 20984,  6888], dtype=int64)"
      ]
     },
     "execution_count": 6,
     "metadata": {},
     "output_type": "execute_result"
    }
   ],
   "source": [
    "raw_data.device_fk_id.unique()"
   ]
  }
 ],
 "metadata": {
  "kernelspec": {
   "display_name": "Python 3 (ipykernel)",
   "language": "python",
   "name": "python3"
  },
  "language_info": {
   "codemirror_mode": {
    "name": "ipython",
    "version": 3
   },
   "file_extension": ".py",
   "mimetype": "text/x-python",
   "name": "python",
   "nbconvert_exporter": "python",
   "pygments_lexer": "ipython3",
   "version": "3.11.4"
  }
 },
 "nbformat": 4,
 "nbformat_minor": 5
}
