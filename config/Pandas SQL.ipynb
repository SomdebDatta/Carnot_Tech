{
 "cells": [
  {
   "cell_type": "code",
   "execution_count": 1,
   "id": "c27746dc-d962-4d37-94f6-76117d2cbfff",
   "metadata": {},
   "outputs": [],
   "source": [
    "import pandas as pd"
   ]
  },
  {
   "cell_type": "code",
   "execution_count": 2,
   "id": "7cf092e0-6458-49d3-85be-cf88ddb9252a",
   "metadata": {},
   "outputs": [],
   "source": [
    "raw_data = pd.read_csv(\"C:/Users/Z004CRTK/Carnot_Tech/config/Raw Data - Backend Developer. (1).csv\")"
   ]
  },
  {
   "cell_type": "code",
   "execution_count": 3,
   "id": "26a00d20-089b-4d92-a704-06398716185f",
   "metadata": {},
   "outputs": [
    {
     "data": {
      "text/html": [
       "<div>\n",
       "<style scoped>\n",
       "    .dataframe tbody tr th:only-of-type {\n",
       "        vertical-align: middle;\n",
       "    }\n",
       "\n",
       "    .dataframe tbody tr th {\n",
       "        vertical-align: top;\n",
       "    }\n",
       "\n",
       "    .dataframe thead th {\n",
       "        text-align: right;\n",
       "    }\n",
       "</style>\n",
       "<table border=\"1\" class=\"dataframe\">\n",
       "  <thead>\n",
       "    <tr style=\"text-align: right;\">\n",
       "      <th></th>\n",
       "      <th>device_fk_id</th>\n",
       "      <th>latitude</th>\n",
       "      <th>longitude</th>\n",
       "      <th>time_stamp</th>\n",
       "      <th>sts</th>\n",
       "      <th>speed</th>\n",
       "    </tr>\n",
       "  </thead>\n",
       "  <tbody>\n",
       "    <tr>\n",
       "      <th>0</th>\n",
       "      <td>25029</td>\n",
       "      <td>27.877958</td>\n",
       "      <td>76.060959</td>\n",
       "      <td>2021-10-23T14:08:02Z</td>\n",
       "      <td>2021-10-23T14:08:08.5984Z</td>\n",
       "      <td>0</td>\n",
       "    </tr>\n",
       "    <tr>\n",
       "      <th>1</th>\n",
       "      <td>25029</td>\n",
       "      <td>27.877958</td>\n",
       "      <td>76.060959</td>\n",
       "      <td>2021-10-23T14:08:06Z</td>\n",
       "      <td>2021-10-23T14:08:08.595096Z</td>\n",
       "      <td>0</td>\n",
       "    </tr>\n",
       "    <tr>\n",
       "      <th>2</th>\n",
       "      <td>25029</td>\n",
       "      <td>27.877958</td>\n",
       "      <td>76.060959</td>\n",
       "      <td>2021-10-23T14:08:04Z</td>\n",
       "      <td>2021-10-23T14:08:08.595365Z</td>\n",
       "      <td>0</td>\n",
       "    </tr>\n",
       "    <tr>\n",
       "      <th>3</th>\n",
       "      <td>25029</td>\n",
       "      <td>27.877958</td>\n",
       "      <td>76.060959</td>\n",
       "      <td>2021-10-23T14:08:00Z</td>\n",
       "      <td>2021-10-23T14:08:02.640873Z</td>\n",
       "      <td>0</td>\n",
       "    </tr>\n",
       "    <tr>\n",
       "      <th>4</th>\n",
       "      <td>25029</td>\n",
       "      <td>27.877958</td>\n",
       "      <td>76.060959</td>\n",
       "      <td>2021-10-23T14:07:56Z</td>\n",
       "      <td>2021-10-23T14:08:02.640311Z</td>\n",
       "      <td>0</td>\n",
       "    </tr>\n",
       "  </tbody>\n",
       "</table>\n",
       "</div>"
      ],
      "text/plain": [
       "   device_fk_id   latitude  longitude            time_stamp  \\\n",
       "0         25029  27.877958  76.060959  2021-10-23T14:08:02Z   \n",
       "1         25029  27.877958  76.060959  2021-10-23T14:08:06Z   \n",
       "2         25029  27.877958  76.060959  2021-10-23T14:08:04Z   \n",
       "3         25029  27.877958  76.060959  2021-10-23T14:08:00Z   \n",
       "4         25029  27.877958  76.060959  2021-10-23T14:07:56Z   \n",
       "\n",
       "                           sts  speed  \n",
       "0    2021-10-23T14:08:08.5984Z      0  \n",
       "1  2021-10-23T14:08:08.595096Z      0  \n",
       "2  2021-10-23T14:08:08.595365Z      0  \n",
       "3  2021-10-23T14:08:02.640873Z      0  \n",
       "4  2021-10-23T14:08:02.640311Z      0  "
      ]
     },
     "execution_count": 3,
     "metadata": {},
     "output_type": "execute_result"
    }
   ],
   "source": [
    "raw_data.head()"
   ]
  },
  {
   "cell_type": "code",
   "execution_count": 4,
   "id": "b94e1f41-94e7-4b9c-9701-0c74c31239e6",
   "metadata": {},
   "outputs": [
    {
     "name": "stdout",
     "output_type": "stream",
     "text": [
      "Latest time for 6888 is 2021-10-23T13:28:00Z\n",
      "Entire row:\n",
      "      index  device_fk_id   latitude  longitude            time_stamp  \\\n",
      "7180   8553          6888  19.735189  76.184525  2021-10-23T13:28:00Z   \n",
      "\n",
      "                              sts  speed  \n",
      "7180  2021-10-23T13:28:05.626486Z      0  \n",
      "Latest time for 20984 is 2021-10-23T14:29:32Z\n",
      "Entire row:\n",
      "       index  device_fk_id   latitude  longitude            time_stamp  \\\n",
      "10098   7589         20984  21.615061  78.436737  2021-10-23T14:29:32Z   \n",
      "\n",
      "                               sts  speed  \n",
      "10098  2021-10-23T14:29:36.526166Z      0  \n",
      "Latest time for 24809 is 2021-10-23T14:29:04Z\n",
      "Entire row:\n",
      "       index  device_fk_id   latitude  longitude            time_stamp  \\\n",
      "10093   2319         24809  18.990557   77.75898  2021-10-23T14:29:04Z   \n",
      "\n",
      "                               sts  speed  \n",
      "10093  2021-10-23T14:29:09.592351Z      0  \n",
      "Latest time for 25029 is 2021-10-23T14:25:25Z\n",
      "Entire row:\n",
      "       index  device_fk_id   latitude  longitude            time_stamp  \\\n",
      "10015    357         25029  27.877935  76.060959  2021-10-23T14:25:25Z   \n",
      "\n",
      "                               sts  speed  \n",
      "10015  2021-10-23T14:25:29.954599Z      0  \n"
     ]
    }
   ],
   "source": [
    "sorted_data = raw_data.sort_values(\"time_stamp\").reset_index()\n",
    "\n",
    "grouped_sorted_data = sorted_data.groupby(\"device_fk_id\")\n",
    "\n",
    "latest_df = pd.DataFrame()\n",
    "for entry in list(grouped_sorted_data):\n",
    "    latest_time = entry[1][\"time_stamp\"].max()\n",
    "    print(f\"Latest time for {entry[0]} is {latest_time}\")\n",
    "    latest_row = entry[1].tail(1)\n",
    "    print(f\"Entire row:\\n{latest_row}\")\n",
    "    latest_df = pd.concat([latest_df, latest_row], axis=0)\n",
    "    \n",
    "latest_values = latest_df.reset_index()"
   ]
  },
  {
   "cell_type": "code",
   "execution_count": 5,
   "id": "75bfa14a-49b8-4687-a409-bbd158b6f871",
   "metadata": {
    "scrolled": true
   },
   "outputs": [
    {
     "name": "stdout",
     "output_type": "stream",
     "text": [
      "Oldest time for 6888 is 2021-10-23T04:55:53Z\n",
      "Oldest row for 6888 is    index  device_fk_id  latitude  longitude            time_stamp  \\\n",
      "0   8931          6888  19.72901  76.204926  2021-10-23T04:55:53Z   \n",
      "\n",
      "                           sts  speed  \n",
      "0  2021-10-23T13:14:04.365831Z      0  \n",
      "Latest time for 6888 is 2021-10-23T13:28:00Z\n",
      "Latest row for 6888 is       index  device_fk_id   latitude  longitude            time_stamp  \\\n",
      "7180   8553          6888  19.735189  76.184525  2021-10-23T13:28:00Z   \n",
      "\n",
      "                              sts  speed  \n",
      "7180  2021-10-23T13:28:05.626486Z      0  \n",
      "After updating DataFrame with device 6888 values - \n",
      "       index  device_fk_id   latitude  longitude            time_stamp  \\\n",
      "0      8931          6888  19.729010  76.204926  2021-10-23T04:55:53Z   \n",
      "7180   8553          6888  19.735189  76.184525  2021-10-23T13:28:00Z   \n",
      "\n",
      "                              sts  speed  \n",
      "0     2021-10-23T13:14:04.365831Z      0  \n",
      "7180  2021-10-23T13:28:05.626486Z      0  \n",
      "Oldest time for 20984 is 2021-10-23T12:29:53Z\n",
      "Oldest row for 20984 is       index  device_fk_id   latitude  longitude            time_stamp  \\\n",
      "2071   8445         20984  21.615017  78.436607  2021-10-23T12:29:53Z   \n",
      "\n",
      "                              sts  speed  \n",
      "2071  2021-10-23T12:30:15.194803Z      0  \n",
      "Latest time for 20984 is 2021-10-23T14:29:32Z\n",
      "Latest row for 20984 is        index  device_fk_id   latitude  longitude            time_stamp  \\\n",
      "10098   7589         20984  21.615061  78.436737  2021-10-23T14:29:32Z   \n",
      "\n",
      "                               sts  speed  \n",
      "10098  2021-10-23T14:29:36.526166Z      0  \n",
      "After updating DataFrame with device 20984 values - \n",
      "        index  device_fk_id   latitude  longitude            time_stamp  \\\n",
      "0       8931          6888  19.729010  76.204926  2021-10-23T04:55:53Z   \n",
      "7180    8553          6888  19.735189  76.184525  2021-10-23T13:28:00Z   \n",
      "2071    8445         20984  21.615017  78.436607  2021-10-23T12:29:53Z   \n",
      "10098   7589         20984  21.615061  78.436737  2021-10-23T14:29:32Z   \n",
      "\n",
      "                               sts  speed  \n",
      "0      2021-10-23T13:14:04.365831Z      0  \n",
      "7180   2021-10-23T13:28:05.626486Z      0  \n",
      "2071   2021-10-23T12:30:15.194803Z      0  \n",
      "10098  2021-10-23T14:29:36.526166Z      0  \n",
      "Oldest time for 24809 is 2021-10-23T07:42:05Z\n",
      "Oldest row for 24809 is      index  device_fk_id   latitude  longitude            time_stamp  \\\n",
      "359   2321         24809  19.022415    77.7537  2021-10-23T07:42:05Z   \n",
      "\n",
      "                             sts  speed  \n",
      "359  2021-10-23T14:29:09.580434Z      0  \n",
      "Latest time for 24809 is 2021-10-23T14:29:04Z\n",
      "Latest row for 24809 is        index  device_fk_id   latitude  longitude            time_stamp  \\\n",
      "10093   2319         24809  18.990557   77.75898  2021-10-23T14:29:04Z   \n",
      "\n",
      "                               sts  speed  \n",
      "10093  2021-10-23T14:29:09.592351Z      0  \n",
      "After updating DataFrame with device 24809 values - \n",
      "        index  device_fk_id   latitude  longitude            time_stamp  \\\n",
      "0       8931          6888  19.729010  76.204926  2021-10-23T04:55:53Z   \n",
      "7180    8553          6888  19.735189  76.184525  2021-10-23T13:28:00Z   \n",
      "2071    8445         20984  21.615017  78.436607  2021-10-23T12:29:53Z   \n",
      "10098   7589         20984  21.615061  78.436737  2021-10-23T14:29:32Z   \n",
      "359     2321         24809  19.022415  77.753700  2021-10-23T07:42:05Z   \n",
      "10093   2319         24809  18.990557  77.758980  2021-10-23T14:29:04Z   \n",
      "\n",
      "                               sts  speed  \n",
      "0      2021-10-23T13:14:04.365831Z      0  \n",
      "7180   2021-10-23T13:28:05.626486Z      0  \n",
      "2071   2021-10-23T12:30:15.194803Z      0  \n",
      "10098  2021-10-23T14:29:36.526166Z      0  \n",
      "359    2021-10-23T14:29:09.580434Z      0  \n",
      "10093  2021-10-23T14:29:09.592351Z      0  \n",
      "Oldest time for 25029 is 2021-10-23T12:29:56Z\n",
      "Oldest row for 25029 is       index  device_fk_id   latitude  longitude            time_stamp  \\\n",
      "2075   2309         25029  27.885506  76.269203  2021-10-23T12:29:56Z   \n",
      "\n",
      "                              sts  speed  \n",
      "2075  2021-10-23T12:30:03.805833Z     31  \n",
      "Latest time for 25029 is 2021-10-23T14:25:25Z\n",
      "Latest row for 25029 is        index  device_fk_id   latitude  longitude            time_stamp  \\\n",
      "10015    357         25029  27.877935  76.060959  2021-10-23T14:25:25Z   \n",
      "\n",
      "                               sts  speed  \n",
      "10015  2021-10-23T14:25:29.954599Z      0  \n",
      "After updating DataFrame with device 25029 values - \n",
      "        index  device_fk_id   latitude  longitude            time_stamp  \\\n",
      "0       8931          6888  19.729010  76.204926  2021-10-23T04:55:53Z   \n",
      "7180    8553          6888  19.735189  76.184525  2021-10-23T13:28:00Z   \n",
      "2071    8445         20984  21.615017  78.436607  2021-10-23T12:29:53Z   \n",
      "10098   7589         20984  21.615061  78.436737  2021-10-23T14:29:32Z   \n",
      "359     2321         24809  19.022415  77.753700  2021-10-23T07:42:05Z   \n",
      "10093   2319         24809  18.990557  77.758980  2021-10-23T14:29:04Z   \n",
      "2075    2309         25029  27.885506  76.269203  2021-10-23T12:29:56Z   \n",
      "10015    357         25029  27.877935  76.060959  2021-10-23T14:25:25Z   \n",
      "\n",
      "                               sts  speed  \n",
      "0      2021-10-23T13:14:04.365831Z      0  \n",
      "7180   2021-10-23T13:28:05.626486Z      0  \n",
      "2071   2021-10-23T12:30:15.194803Z      0  \n",
      "10098  2021-10-23T14:29:36.526166Z      0  \n",
      "359    2021-10-23T14:29:09.580434Z      0  \n",
      "10093  2021-10-23T14:29:09.592351Z      0  \n",
      "2075   2021-10-23T12:30:03.805833Z     31  \n",
      "10015  2021-10-23T14:25:29.954599Z      0  \n"
     ]
    }
   ],
   "source": [
    "sorted_data = raw_data.sort_values(\"time_stamp\").reset_index()\n",
    "\n",
    "grouped_sorted_data = sorted_data.groupby(\"device_fk_id\")\n",
    "\n",
    "start_end_df = pd.DataFrame()\n",
    "for entry in list(grouped_sorted_data):\n",
    "    oldest_time = entry[1][\"time_stamp\"].min()\n",
    "    print(f\"Oldest time for {entry[0]} is {oldest_time}\")\n",
    "\n",
    "    oldest_row = entry[1].head(1)\n",
    "    print(f\"Oldest row for {entry[0]} is {oldest_row}\")\n",
    "    \n",
    "    latest_time = entry[1][\"time_stamp\"].max()\n",
    "    print(f\"Latest time for {entry[0]} is {latest_time}\")\n",
    "    \n",
    "    latest_row = entry[1].tail(1)\n",
    "    print(f\"Latest row for {entry[0]} is {latest_row}\")\n",
    "\n",
    "    \n",
    "    start_end_df = pd.concat([start_end_df, oldest_row], axis=0)\n",
    "    start_end_df = pd.concat([start_end_df, latest_row], axis=0)\n",
    "    print(f\"After updating DataFrame with device {entry[0]} values - \\n {start_end_df}\")"
   ]
  },
  {
   "cell_type": "code",
   "execution_count": null,
   "id": "f19844d4-77be-4d62-b503-708204ef5ed4",
   "metadata": {},
   "outputs": [],
   "source": []
  },
  {
   "cell_type": "code",
   "execution_count": null,
   "id": "0dc288b9-7fb2-41f3-9018-9fc263244b2a",
   "metadata": {},
   "outputs": [],
   "source": []
  },
  {
   "cell_type": "code",
   "execution_count": 6,
   "id": "a918d307-e2a4-4a91-afa2-70634091c152",
   "metadata": {},
   "outputs": [
    {
     "data": {
      "text/plain": [
       "<pandas.core.groupby.generic.DataFrameGroupBy object at 0x000002AA364EE110>"
      ]
     },
     "execution_count": 6,
     "metadata": {},
     "output_type": "execute_result"
    }
   ],
   "source": [
    "grouped_sorted_data"
   ]
  },
  {
   "cell_type": "code",
   "execution_count": 7,
   "id": "dca110ee-1c4c-49b7-b37f-cf1f301363ab",
   "metadata": {},
   "outputs": [],
   "source": [
    "device_ids = (6888, 20984, 24809, 25029)"
   ]
  },
  {
   "cell_type": "code",
   "execution_count": 8,
   "id": "3c8a9fc0-51b0-4fa6-8546-f3ebef9e8843",
   "metadata": {},
   "outputs": [
    {
     "name": "stdout",
     "output_type": "stream",
     "text": [
      "(1548, 8) 6888\n",
      "(1345, 8) 20984\n",
      "(4896, 8) 24809\n",
      "(2310, 8) 25029\n"
     ]
    }
   ],
   "source": [
    "for device_id in device_ids:\n",
    "    for entry in grouped_sorted_data:\n",
    "        if entry[0] == device_id:\n",
    "            valid_table = entry[1].reset_index()\n",
    "    print(valid_table.shape, device_id)"
   ]
  },
  {
   "cell_type": "code",
   "execution_count": 14,
   "id": "58e400f4-0379-4cf5-a0c8-9376015a5090",
   "metadata": {},
   "outputs": [
    {
     "name": "stdout",
     "output_type": "stream",
     "text": [
      "Index([], dtype='int64') Index([], dtype='int64') hehe\n",
      "True\n"
     ]
    },
    {
     "ename": "IndexError",
     "evalue": "index 0 is out of bounds for axis 0 with size 0",
     "output_type": "error",
     "traceback": [
      "\u001b[1;31m---------------------------------------------------------------------------\u001b[0m",
      "\u001b[1;31mIndexError\u001b[0m                                Traceback (most recent call last)",
      "Cell \u001b[1;32mIn[14], line 19\u001b[0m\n\u001b[0;32m     15\u001b[0m     \u001b[38;5;66;03m# print(start_index.values[0], end_index.values[0])\u001b[39;00m\n\u001b[0;32m     17\u001b[0m     \u001b[38;5;28mprint\u001b[39m(start_index\u001b[38;5;241m.\u001b[39mempty)\n\u001b[1;32m---> 19\u001b[0m     \u001b[38;5;28;01mfor\u001b[39;00m index \u001b[38;5;129;01min\u001b[39;00m \u001b[38;5;28mrange\u001b[39m(\u001b[43mstart_index\u001b[49m\u001b[38;5;241;43m.\u001b[39;49m\u001b[43mvalues\u001b[49m\u001b[43m[\u001b[49m\u001b[38;5;241;43m0\u001b[39;49m\u001b[43m]\u001b[49m, end_index\u001b[38;5;241m.\u001b[39mvalues[\u001b[38;5;241m0\u001b[39m] \u001b[38;5;241m+\u001b[39m \u001b[38;5;241m1\u001b[39m):\n\u001b[0;32m     20\u001b[0m         \u001b[38;5;28mprint\u001b[39m(valid_table\u001b[38;5;241m.\u001b[39miloc[index]\u001b[38;5;241m.\u001b[39mlatitude, valid_table\u001b[38;5;241m.\u001b[39miloc[index]\u001b[38;5;241m.\u001b[39mlongitude, valid_table\u001b[38;5;241m.\u001b[39miloc[index]\u001b[38;5;241m.\u001b[39mtime_stamp)\n\u001b[0;32m     21\u001b[0m \u001b[38;5;28;01melse\u001b[39;00m:\n",
      "\u001b[1;31mIndexError\u001b[0m: index 0 is out of bounds for axis 0 with size 0"
     ]
    }
   ],
   "source": [
    "from dateutil import parser\n",
    "device_id = 6888\n",
    "start_time = \"2021-10-23T13:13:52.473644Z\"\n",
    "start_time_obj = parser.parse(start_time)\n",
    "end_time = \"2021-10-23T13:13:58.860442Z  \"\n",
    "end_time_obj = parser.parse(end_time)\n",
    "if start_time_obj < end_time_obj:\n",
    "    for entry in grouped_sorted_data:\n",
    "        if entry[0] == device_id:\n",
    "            valid_table = entry[1].reset_index()\n",
    "    \n",
    "    start_index = valid_table.loc[valid_table[\"time_stamp\"] == start_time].drop([\"index\", \"level_0\"], axis=1).index\n",
    "    end_index = valid_table.loc[valid_table[\"time_stamp\"] == end_time].drop([\"index\", \"level_0\"], axis=1).index\n",
    "    print(start_index, end_index, \"hehe\")\n",
    "    # print(start_index.values[0], end_index.values[0])\n",
    "\n",
    "    \n",
    "    \n",
    "    for index in range(start_index.values[0], end_index.values[0] + 1):\n",
    "        print(valid_table.iloc[index].latitude, valid_table.iloc[index].longitude, valid_table.iloc[index].time_stamp)\n",
    "else:\n",
    "    print(f\"Start time has to be less than end time!\")"
   ]
  },
  {
   "cell_type": "code",
   "execution_count": 87,
   "id": "a92a26af-e6a2-4f05-8bca-b5ac9a4b90c0",
   "metadata": {},
   "outputs": [
    {
     "data": {
      "text/plain": [
       "19.72900963"
      ]
     },
     "execution_count": 87,
     "metadata": {},
     "output_type": "execute_result"
    }
   ],
   "source": [
    "valid_table.iloc[0]\n",
    "# for index in range(start_index.values[0], end_index.values[0] + 1):\n",
    "#     print(valid_table[index])"
   ]
  },
  {
   "cell_type": "code",
   "execution_count": null,
   "id": "b0f19800-59db-4aaa-a617-e2c45e94c718",
   "metadata": {},
   "outputs": [],
   "source": []
  },
  {
   "cell_type": "code",
   "execution_count": null,
   "id": "3b12e3e9-691a-47f2-b889-c9d419707ebd",
   "metadata": {},
   "outputs": [],
   "source": []
  },
  {
   "cell_type": "code",
   "execution_count": null,
   "id": "c118fe72-4db0-4f32-b789-df8d61f803b5",
   "metadata": {},
   "outputs": [],
   "source": []
  },
  {
   "cell_type": "code",
   "execution_count": null,
   "id": "3021c28a-7c8a-4831-894b-8cccf400511b",
   "metadata": {},
   "outputs": [],
   "source": []
  },
  {
   "cell_type": "code",
   "execution_count": null,
   "id": "06e5f3ce-6c92-41fa-8ab3-80b3d56dc94c",
   "metadata": {},
   "outputs": [],
   "source": [
    "from datetime import datetime\n",
    "from dateutil import parser\n",
    "my_time = \"2021-10-23T04:55:53Z\"\n",
    "my_time2 = \"2021-10-25T04:55:53Z\"\n",
    "dt1 = parser.parse(my_time)\n",
    "dt2 = parser.parse(my_time2)\n",
    "print(dt1 > dt2)"
   ]
  }
 ],
 "metadata": {
  "kernelspec": {
   "display_name": "Python 3 (ipykernel)",
   "language": "python",
   "name": "python3"
  },
  "language_info": {
   "codemirror_mode": {
    "name": "ipython",
    "version": 3
   },
   "file_extension": ".py",
   "mimetype": "text/x-python",
   "name": "python",
   "nbconvert_exporter": "python",
   "pygments_lexer": "ipython3",
   "version": "3.11.4"
  }
 },
 "nbformat": 4,
 "nbformat_minor": 5
}
