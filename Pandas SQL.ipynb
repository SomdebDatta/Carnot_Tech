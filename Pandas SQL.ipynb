{
 "cells": [
  {
   "cell_type": "code",
   "execution_count": 1,
   "id": "c27746dc-d962-4d37-94f6-76117d2cbfff",
   "metadata": {},
   "outputs": [],
   "source": [
    "import pandas as pd"
   ]
  },
  {
   "cell_type": "code",
   "execution_count": 2,
   "id": "7cf092e0-6458-49d3-85be-cf88ddb9252a",
   "metadata": {},
   "outputs": [],
   "source": [
    "raw_df = pd.read_csv(\"C:/Users/Z004CRTK/Carnot_Tech/config/Raw Data - Backend Developer. (1).csv\")"
   ]
  },
  {
   "cell_type": "code",
   "execution_count": 3,
   "id": "26a00d20-089b-4d92-a704-06398716185f",
   "metadata": {},
   "outputs": [
    {
     "data": {
      "text/html": [
       "<div>\n",
       "<style scoped>\n",
       "    .dataframe tbody tr th:only-of-type {\n",
       "        vertical-align: middle;\n",
       "    }\n",
       "\n",
       "    .dataframe tbody tr th {\n",
       "        vertical-align: top;\n",
       "    }\n",
       "\n",
       "    .dataframe thead th {\n",
       "        text-align: right;\n",
       "    }\n",
       "</style>\n",
       "<table border=\"1\" class=\"dataframe\">\n",
       "  <thead>\n",
       "    <tr style=\"text-align: right;\">\n",
       "      <th></th>\n",
       "      <th>device_fk_id</th>\n",
       "      <th>latitude</th>\n",
       "      <th>longitude</th>\n",
       "      <th>time_stamp</th>\n",
       "      <th>sts</th>\n",
       "      <th>speed</th>\n",
       "    </tr>\n",
       "  </thead>\n",
       "  <tbody>\n",
       "    <tr>\n",
       "      <th>0</th>\n",
       "      <td>25029</td>\n",
       "      <td>27.877958</td>\n",
       "      <td>76.060959</td>\n",
       "      <td>2021-10-23T14:08:02Z</td>\n",
       "      <td>2021-10-23T14:08:08.5984Z</td>\n",
       "      <td>0</td>\n",
       "    </tr>\n",
       "    <tr>\n",
       "      <th>1</th>\n",
       "      <td>25029</td>\n",
       "      <td>27.877958</td>\n",
       "      <td>76.060959</td>\n",
       "      <td>2021-10-23T14:08:06Z</td>\n",
       "      <td>2021-10-23T14:08:08.595096Z</td>\n",
       "      <td>0</td>\n",
       "    </tr>\n",
       "    <tr>\n",
       "      <th>2</th>\n",
       "      <td>25029</td>\n",
       "      <td>27.877958</td>\n",
       "      <td>76.060959</td>\n",
       "      <td>2021-10-23T14:08:04Z</td>\n",
       "      <td>2021-10-23T14:08:08.595365Z</td>\n",
       "      <td>0</td>\n",
       "    </tr>\n",
       "    <tr>\n",
       "      <th>3</th>\n",
       "      <td>25029</td>\n",
       "      <td>27.877958</td>\n",
       "      <td>76.060959</td>\n",
       "      <td>2021-10-23T14:08:00Z</td>\n",
       "      <td>2021-10-23T14:08:02.640873Z</td>\n",
       "      <td>0</td>\n",
       "    </tr>\n",
       "    <tr>\n",
       "      <th>4</th>\n",
       "      <td>25029</td>\n",
       "      <td>27.877958</td>\n",
       "      <td>76.060959</td>\n",
       "      <td>2021-10-23T14:07:56Z</td>\n",
       "      <td>2021-10-23T14:08:02.640311Z</td>\n",
       "      <td>0</td>\n",
       "    </tr>\n",
       "  </tbody>\n",
       "</table>\n",
       "</div>"
      ],
      "text/plain": [
       "   device_fk_id   latitude  longitude            time_stamp  \\\n",
       "0         25029  27.877958  76.060959  2021-10-23T14:08:02Z   \n",
       "1         25029  27.877958  76.060959  2021-10-23T14:08:06Z   \n",
       "2         25029  27.877958  76.060959  2021-10-23T14:08:04Z   \n",
       "3         25029  27.877958  76.060959  2021-10-23T14:08:00Z   \n",
       "4         25029  27.877958  76.060959  2021-10-23T14:07:56Z   \n",
       "\n",
       "                           sts  speed  \n",
       "0    2021-10-23T14:08:08.5984Z      0  \n",
       "1  2021-10-23T14:08:08.595096Z      0  \n",
       "2  2021-10-23T14:08:08.595365Z      0  \n",
       "3  2021-10-23T14:08:02.640873Z      0  \n",
       "4  2021-10-23T14:08:02.640311Z      0  "
      ]
     },
     "execution_count": 3,
     "metadata": {},
     "output_type": "execute_result"
    }
   ],
   "source": [
    "raw_df.head()"
   ]
  },
  {
   "cell_type": "code",
   "execution_count": 68,
   "id": "1198281e-9708-4034-8491-704b732c092b",
   "metadata": {},
   "outputs": [],
   "source": [
    "sorted_df = raw_df.sort_values(\"time_stamp\")"
   ]
  },
  {
   "cell_type": "code",
   "execution_count": 69,
   "id": "e54806c4-4697-4c8d-8ab1-10c7611b7e93",
   "metadata": {},
   "outputs": [
    {
     "data": {
      "text/plain": [
       "<pandas.core.groupby.generic.DataFrameGroupBy object at 0x00000220EBA8AAD0>"
      ]
     },
     "execution_count": 69,
     "metadata": {},
     "output_type": "execute_result"
    }
   ],
   "source": [
    "grouped_sorted_df = sorted_df.groupby(\"device_fk_id\")\n",
    "grouped_sorted_df"
   ]
  },
  {
   "cell_type": "code",
   "execution_count": 81,
   "id": "3505e446-ba57-49bc-a543-781821d951bf",
   "metadata": {},
   "outputs": [
    {
     "name": "stdout",
     "output_type": "stream",
     "text": [
      "Latest time for 6888 is 2021-10-23T13:28:00Z\n",
      "      device_fk_id   latitude  longitude            time_stamp  \\\n",
      "8553          6888  19.735189  76.184525  2021-10-23T13:28:00Z   \n",
      "\n",
      "                              sts  speed  \n",
      "8553  2021-10-23T13:28:05.626486Z      0  \n",
      "Latest time for 20984 is 2021-10-23T14:29:32Z\n",
      "      device_fk_id   latitude  longitude            time_stamp  \\\n",
      "7589         20984  21.615061  78.436737  2021-10-23T14:29:32Z   \n",
      "\n",
      "                              sts  speed  \n",
      "7589  2021-10-23T14:29:36.526166Z      0  \n",
      "Latest time for 24809 is 2021-10-23T14:29:04Z\n",
      "      device_fk_id   latitude  longitude            time_stamp  \\\n",
      "2319         24809  18.990557   77.75898  2021-10-23T14:29:04Z   \n",
      "\n",
      "                              sts  speed  \n",
      "2319  2021-10-23T14:29:09.592351Z      0  \n",
      "Latest time for 25029 is 2021-10-23T14:25:25Z\n",
      "     device_fk_id   latitude  longitude            time_stamp  \\\n",
      "357         25029  27.877935  76.060959  2021-10-23T14:25:25Z   \n",
      "\n",
      "                             sts  speed  \n",
      "357  2021-10-23T14:25:29.954599Z      0  \n"
     ]
    }
   ],
   "source": [
    "for entry in list(grouped_sorted_df):\n",
    "    latest_time = entry[1][\"time_stamp\"].max()\n",
    "    # filter = \n",
    "    latest = {\n",
    "        \"device_fk_id\": entry[0],\n",
    "    }\n",
    "    print(f\"Latest time for {entry[0]} is {latest_time}\")\n",
    "    print(entry[1].tail(1))"
   ]
  }
 ],
 "metadata": {
  "kernelspec": {
   "display_name": "Python 3 (ipykernel)",
   "language": "python",
   "name": "python3"
  },
  "language_info": {
   "codemirror_mode": {
    "name": "ipython",
    "version": 3
   },
   "file_extension": ".py",
   "mimetype": "text/x-python",
   "name": "python",
   "nbconvert_exporter": "python",
   "pygments_lexer": "ipython3",
   "version": "3.11.4"
  }
 },
 "nbformat": 4,
 "nbformat_minor": 5
}
